{
 "cells": [
  {
   "cell_type": "code",
   "execution_count": 3,
   "metadata": {},
   "outputs": [
    {
     "name": "stdout",
     "output_type": "stream",
     "text": [
      "[12, 34, 55, 56, -12]\n",
      "56\n",
      "-12\n",
      "12\n",
      "Enter 1st number: 12\n",
      "Enter 2nd number: 21\n",
      "a. Add\n",
      "b. Sub\n",
      "c. Mul\n",
      "\n",
      "Enter choice: b\n",
      "-9\n"
     ]
    }
   ],
   "source": [
    "myList = [12,34,55,56, -12]\n",
    "print(myList)\n",
    "#max function will return Largest Value in the List\n",
    "print(max(myList))\n",
    "\n",
    "#min function will return Smallest Value in the List\n",
    "print(min(myList))\n",
    "\n",
    "#abs function will return Absolute Value of the number\n",
    "print(abs(myList[4]))\n",
    "\n",
    "\n",
    "num1 = int(input(\"Enter 1st number: \"))\n",
    "num2 = int(input(\"Enter 2nd number: \"))\n",
    "\n",
    "print(\"a. Add\\nb. Sub\\nc. Mul\\n\")\n",
    "\n",
    "ch = input(\"Enter choice: \")\n",
    "\n",
    "if ch==\"a\":\n",
    "    print(num1+num2)\n",
    "elif ch ==\"b\":\n",
    "    print(num1-num2)\n",
    "elif ch ==\"c\":\n",
    "    print(num1*num2)\n",
    "else:\n",
    "    print(\"Wrong Choice\")\n",
    "    "
   ]
  },
  {
   "cell_type": "code",
   "execution_count": null,
   "metadata": {},
   "outputs": [],
   "source": []
  }
 ],
 "metadata": {
  "kernelspec": {
   "display_name": "Python 3",
   "language": "python",
   "name": "python3"
  },
  "language_info": {
   "codemirror_mode": {
    "name": "ipython",
    "version": 3
   },
   "file_extension": ".py",
   "mimetype": "text/x-python",
   "name": "python",
   "nbconvert_exporter": "python",
   "pygments_lexer": "ipython3",
   "version": "3.7.4"
  }
 },
 "nbformat": 4,
 "nbformat_minor": 2
}
